{
 "cells": [
  {
   "cell_type": "code",
   "execution_count": null,
   "id": "d1c175d4",
   "metadata": {},
   "outputs": [],
   "source": [
    "# 打开原始数据文件并读取内容\n",
    "input_file = \"matrix.txt\"  # 原始数据文件名\n",
    "output_file = \"output.txt\"  # 输出文件名\n",
    "\n",
    "# 打开输入文件和输出文件\n",
    "with open(input_file, \"r\") as infile, open(output_file, \"w\") as outfile:\n",
    "    # 逐行读取输入文件\n",
    "    for line in infile:\n",
    "        # 去除行首行尾的空白字符，并按制表符或空格分割行内容\n",
    "        parts = line.strip().split()\n",
    "        # 检查是否每行确实有两个元素\n",
    "        if len(parts) == 2:\n",
    "            # 将字符串转换为整数\n",
    "            num1, num2 = int(parts[0]), int(parts[1])\n",
    "            # 检查两个数字是否都在1000以内\n",
    "            if num1 < 1000 and num2 < 1000:\n",
    "                # 如果满足条件，将该行写入输出文件\n",
    "                outfile.write(line)\n",
    "\n",
    "print(f\"Filtered records have been saved to {output_file}\")"
   ]
  }
 ],
 "metadata": {
  "language_info": {
   "name": "python"
  }
 },
 "nbformat": 4,
 "nbformat_minor": 5
}
