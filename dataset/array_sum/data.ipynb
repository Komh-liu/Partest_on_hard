{
 "cells": [
  {
   "cell_type": "code",
   "execution_count": null,
   "id": "04071198",
   "metadata": {},
   "outputs": [
    {
     "name": "stdout",
     "output_type": "stream",
     "text": [
      "数字已成功写入到1.txt文件中。\n"
     ]
    }
   ],
   "source": [
    "# 打开文件，如果文件不存在则创建\n",
    "with open(\"data.txt\", \"w\") as file:\n",
    "    # 遍历从1到10000的数字\n",
    "    for i in range(1, 1000000001):\n",
    "        # 将每个数字写入文件，每个数字占一行\n",
    "        file.write(str(i) + \" \")\n",
    "\n",
    "print(\"数字已成功写入到data.txt文件中。\")"
   ]
  }
 ],
 "metadata": {
  "kernelspec": {
   "display_name": "base",
   "language": "python",
   "name": "python3"
  },
  "language_info": {
   "codemirror_mode": {
    "name": "ipython",
    "version": 3
   },
   "file_extension": ".py",
   "mimetype": "text/x-python",
   "name": "python",
   "nbconvert_exporter": "python",
   "pygments_lexer": "ipython3",
   "version": "3.8.10"
  }
 },
 "nbformat": 4,
 "nbformat_minor": 5
}
