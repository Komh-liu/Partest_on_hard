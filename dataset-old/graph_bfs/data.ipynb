{
 "cells": [
  {
   "cell_type": "code",
   "execution_count": null,
   "id": "a664aa92",
   "metadata": {},
   "outputs": [],
   "source": [
    "def check_continuous_nodes(file_path):\n",
    "    try:\n",
    "        with open(file_path, 'r') as file:\n",
    "            # 读取所有行并提取每行的两个节点序号\n",
    "            nodes = set()\n",
    "            for line in file:\n",
    "                line = line.strip()\n",
    "                if line:  # 确保不处理空行\n",
    "                    parts = line.split()\n",
    "                    if len(parts) == 2:  # 确保每行有两个节点序号\n",
    "                        try:\n",
    "                            node1, node2 = int(parts[0]), int(parts[1])\n",
    "                            nodes.add(node1)\n",
    "                            nodes.add(node2)\n",
    "                        except ValueError:\n",
    "                            print(f\"文件中包含无效的数字格式：{line}\")\n",
    "                            return False\n",
    "                    else:\n",
    "                        print(f\"文件中某行格式不正确，应包含两个节点序号：{line}\")\n",
    "                        return False\n",
    "\n",
    "        # 如果没有提取到任何节点序号，返回 False\n",
    "        if not nodes:\n",
    "            print(\"文件中没有有效的节点序号。\")\n",
    "            return False\n",
    "\n",
    "        # 将所有节点序号排序\n",
    "        sorted_nodes = sorted(nodes)\n",
    "\n",
    "        # 检查是否是连续的自然数\n",
    "        start = sorted_nodes[0]\n",
    "        end = sorted_nodes[-1]\n",
    "        expected_nodes = set(range(start, end + 1))\n",
    "\n",
    "        # 检查是否有缺失的节点\n",
    "        missing_nodes = expected_nodes - nodes\n",
    "        if missing_nodes:\n",
    "            print(f\"缺失的节点序号：{sorted(missing_nodes)}\")\n",
    "            return False\n",
    "        else:\n",
    "            print(\"所有节点序号是连续的，没有缺失的节点。\")\n",
    "            return True\n",
    "\n",
    "    except FileNotFoundError:\n",
    "        print(f\"文件 {file_path} 未找到。\")\n",
    "    except Exception as e:\n",
    "        print(f\"发生错误：{e}\")\n",
    "\n",
    "# 替换为你的文件路径\n",
    "file_path = 'data.txt'\n",
    "check_continuous_nodes(file_path)"
   ]
  },
  {
   "cell_type": "code",
   "execution_count": 4,
   "id": "ea442931",
   "metadata": {},
   "outputs": [
    {
     "name": "stdout",
     "output_type": "stream",
     "text": [
      "Number of nodes: 11316811\n",
      "Number of edges: 85331845\n",
      "Graph density: 1.3325792428114106e-06\n"
     ]
    }
   ],
   "source": [
    "def analyze_graph(file_path):\n",
    "    \"\"\"\n",
    "    分析图的稠密程度等信息。\n",
    "    :param file_path: 存储图的文本文件路径。\n",
    "    \"\"\"\n",
    "    # 初始化变量\n",
    "    num_edges = 0  # 边的数量\n",
    "    nodes = set()  # 节点集合\n",
    "\n",
    "    # 读取文件并统计信息\n",
    "    with open(file_path, 'r') as file:\n",
    "        for line in file:\n",
    "            line = line.strip()\n",
    "            if line:  # 跳过空行\n",
    "                nodes_in_edge = line.split()\n",
    "                if len(nodes_in_edge) != 2:\n",
    "                    raise ValueError(f\"Invalid edge format in line: {line}\")\n",
    "                node1, node2 = nodes_in_edge\n",
    "                nodes.add(node1)\n",
    "                nodes.add(node2)\n",
    "                num_edges += 1\n",
    "\n",
    "    num_nodes = len(nodes)  # 节点的数量\n",
    "    max_possible_edges = num_nodes * (num_nodes - 1) // 2  # 无向图的最大边数\n",
    "\n",
    "    # 计算稠密程度\n",
    "    density = num_edges / max_possible_edges if max_possible_edges > 0 else 0\n",
    "\n",
    "    # 输出结果\n",
    "    print(f\"Number of nodes: {num_nodes}\")\n",
    "    print(f\"Number of edges: {num_edges}\")\n",
    "    print(f\"Graph density: {density}\")\n",
    "\n",
    "    return num_nodes, num_edges, density\n",
    "\n",
    "\n",
    "if __name__ == \"__main__\":\n",
    "    file_path = \"data.txt\"  # 替换为你的文件路径\n",
    "    analyze_graph(file_path)"
   ]
  },
  {
   "cell_type": "markdown",
   "id": "256cb442",
   "metadata": {},
   "source": [
    "## data_large: \n",
    "Number of nodes: 11316811 \n",
    "Number of edges: 85331845\n",
    "Graph density: 1.3325792428114106e-06"
   ]
  }
 ],
 "metadata": {
  "kernelspec": {
   "display_name": "base",
   "language": "python",
   "name": "python3"
  },
  "language_info": {
   "codemirror_mode": {
    "name": "ipython",
    "version": 3
   },
   "file_extension": ".py",
   "mimetype": "text/x-python",
   "name": "python",
   "nbconvert_exporter": "python",
   "pygments_lexer": "ipython3",
   "version": "3.8.10"
  }
 },
 "nbformat": 4,
 "nbformat_minor": 5
}
