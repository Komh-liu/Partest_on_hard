{
 "cells": [
  {
   "cell_type": "code",
   "execution_count": 4,
   "id": "d1c175d4",
   "metadata": {},
   "outputs": [
    {
     "name": "stdout",
     "output_type": "stream",
     "text": [
      "Filtered records have been saved to output.txt\n"
     ]
    }
   ],
   "source": [
    "# 打开原始数据文件并读取内容\n",
    "input_file = \"matrix.txt\"  # 原始数据文件名\n",
    "output_file = \"output.txt\"  # 输出文件名\n",
    "\n",
    "# 打开输入文件和输出文件\n",
    "with open(input_file, \"r\") as infile, open(output_file, \"w\") as outfile:\n",
    "    # 逐行读取输入文件\n",
    "    for line in infile:\n",
    "        # 去除行首行尾的空白字符，并按制表符或空格分割行内容\n",
    "        parts = line.strip().split()\n",
    "        # 检查是否每行确实有两个元素\n",
    "        if len(parts) == 2:\n",
    "            # 将字符串转换为整数\n",
    "            num1, num2 = int(parts[0]), int(parts[1])\n",
    "            # 检查两个数字是否都在1000以内\n",
    "            if num1 < 2000 and num2 < 2000:\n",
    "                # 如果满足条件，将该行写入输出文件，并在末尾添加一个1\n",
    "                outfile.write(f\"{num1}\\t{num2}\\t1\\n\")\n",
    "\n",
    "print(f\"Filtered records have been saved to {output_file}\")"
   ]
  }
 ],
 "metadata": {
  "kernelspec": {
   "display_name": "base",
   "language": "python",
   "name": "python3"
  },
  "language_info": {
   "codemirror_mode": {
    "name": "ipython",
    "version": 3
   },
   "file_extension": ".py",
   "mimetype": "text/x-python",
   "name": "python",
   "nbconvert_exporter": "python",
   "pygments_lexer": "ipython3",
   "version": "3.8.10"
  }
 },
 "nbformat": 4,
 "nbformat_minor": 5
}
